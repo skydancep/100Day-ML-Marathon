{
 "cells": [
  {
   "cell_type": "markdown",
   "metadata": {},
   "source": [
    "## Work\n",
    "1. 請嘗試將 preproc_x 替換成以每筆資料的 min/max 進行標準化至 -1 ~ 1 間，再進行訓練\n",
    "2. 請嘗試將 mlp 疊更深 (e.g 5~10 層)，進行訓練後觀察 learning curve 的走勢\n",
    "3. (optional) 請改用 GPU 進行訓練 (如果你有 GPU 的話)，比較使用 CPU 與 GPU 的訓練速度"
   ]
  },
  {
   "cell_type": "code",
   "execution_count": 18,
   "metadata": {},
   "outputs": [
    {
     "data": {
      "text/plain": [
       "'\\nYour code here (optional)\\n確認硬體資源\\n'"
      ]
     },
     "execution_count": 18,
     "metadata": {},
     "output_type": "execute_result"
    }
   ],
   "source": [
    "## \n",
    "\"\"\"\n",
    "Your code here (optional)\n",
    "確認硬體資源\n",
    "\"\"\"\n"
   ]
  },
  {
   "cell_type": "code",
   "execution_count": 19,
   "metadata": {},
   "outputs": [],
   "source": [
    "import os\n",
    "import keras\n",
    "\n",
    "# 請嘗試設定 GPU：os.environ\n"
   ]
  },
  {
   "cell_type": "code",
   "execution_count": 20,
   "metadata": {},
   "outputs": [],
   "source": [
    "train, test = keras.datasets.cifar10.load_data()"
   ]
  },
  {
   "cell_type": "code",
   "execution_count": 21,
   "metadata": {},
   "outputs": [],
   "source": [
    "## 資料前處理\n",
    "\"\"\"\n",
    "Your code here\n",
    "\"\"\"\n",
    "def preproc_x(x):\n",
    "    x=2*(x-x.min())/(x.max()-x.min())-1\n",
    "    x = x.reshape((len(x), -1))\n",
    "    return x\n",
    "\n",
    "def preproc_y(y, num_classes=10):\n",
    "    if y.shape[-1] == 1:\n",
    "        y = keras.utils.to_categorical(y, num_classes)\n",
    "    return y    "
   ]
  },
  {
   "cell_type": "code",
   "execution_count": null,
   "metadata": {},
   "outputs": [],
   "source": []
  },
  {
   "cell_type": "code",
   "execution_count": 22,
   "metadata": {},
   "outputs": [],
   "source": [
    "x_train, y_train = train\n",
    "x_test, y_test = test\n",
    "\n",
    "# Preproc the inputs\n",
    "x_train = preproc_x(x_train)\n",
    "x_test = preproc_x(x_test)\n",
    "\n",
    "# Preprc the outputs\n",
    "y_train = preproc_y(y_train)\n",
    "y_test = preproc_y(y_test)"
   ]
  },
  {
   "cell_type": "code",
   "execution_count": 23,
   "metadata": {},
   "outputs": [
    {
     "name": "stdout",
     "output_type": "stream",
     "text": [
      "Model: \"model_2\"\n",
      "_________________________________________________________________\n",
      "Layer (type)                 Output Shape              Param #   \n",
      "=================================================================\n",
      "input_2 (InputLayer)         (None, 3072)              0         \n",
      "_________________________________________________________________\n",
      "hidden_layer1 (Dense)        (None, 512)               1573376   \n",
      "_________________________________________________________________\n",
      "hidden_layer2 (Dense)        (None, 256)               131328    \n",
      "_________________________________________________________________\n",
      "hidden_layer3 (Dense)        (None, 128)               32896     \n",
      "_________________________________________________________________\n",
      "hidden_layer4 (Dense)        (None, 64)                8256      \n",
      "_________________________________________________________________\n",
      "hidden_layer5 (Dense)        (None, 32)                2080      \n",
      "_________________________________________________________________\n",
      "output (Dense)               (None, 10)                330       \n",
      "=================================================================\n",
      "Total params: 1,748,266\n",
      "Trainable params: 1,748,266\n",
      "Non-trainable params: 0\n",
      "_________________________________________________________________\n"
     ]
    }
   ],
   "source": [
    "\"\"\"Code Here\n",
    "建立你的神經網路\n",
    "\"\"\"\n",
    "def build_mlp(input_shape, output_units=10, num_neurons=[512, 256, 128,64,32]):\n",
    "    input_layer = keras.layers.Input(input_shape)\n",
    "    \n",
    "    for i, n_units in enumerate(num_neurons):\n",
    "        if i == 0:\n",
    "            x = keras.layers.Dense(units=n_units, activation=\"relu\", name=\"hidden_layer\"+str(i+1))(input_layer)\n",
    "        else:\n",
    "            x = keras.layers.Dense(units=n_units, activation=\"relu\", name=\"hidden_layer\"+str(i+1))(x)\n",
    "    \n",
    "    out = keras.layers.Dense(units=output_units, activation=\"softmax\", name=\"output\")(x)\n",
    "    \n",
    "    model = keras.models.Model(inputs=[input_layer], outputs=[out])\n",
    "    return model\n",
    "model = build_mlp(input_shape=x_train.shape[1:])\n",
    "model.summary()"
   ]
  },
  {
   "cell_type": "code",
   "execution_count": 24,
   "metadata": {},
   "outputs": [],
   "source": [
    "## 超參數設定\n",
    "LEARNING_RATE = 0.001\n",
    "EPOCHS = 100\n",
    "BATCH_SIZE = 256"
   ]
  },
  {
   "cell_type": "code",
   "execution_count": 25,
   "metadata": {},
   "outputs": [],
   "source": [
    "optimizer = keras.optimizers.Adam(lr=LEARNING_RATE)\n",
    "model.compile(loss=\"categorical_crossentropy\", metrics=[\"accuracy\"], optimizer=optimizer)"
   ]
  },
  {
   "cell_type": "code",
   "execution_count": 26,
   "metadata": {},
   "outputs": [
    {
     "name": "stdout",
     "output_type": "stream",
     "text": [
      "Train on 50000 samples, validate on 10000 samples\n",
      "Epoch 1/100\n",
      "50000/50000 [==============================] - 10s 205us/step - loss: 2.2439 - accuracy: 0.1547 - val_loss: 2.1930 - val_accuracy: 0.1824\n",
      "Epoch 2/100\n",
      "50000/50000 [==============================] - 10s 201us/step - loss: 2.1467 - accuracy: 0.2107 - val_loss: 2.1515 - val_accuracy: 0.2132\n",
      "Epoch 3/100\n",
      "50000/50000 [==============================] - 10s 209us/step - loss: 2.0698 - accuracy: 0.2456 - val_loss: 2.0841 - val_accuracy: 0.2414\n",
      "Epoch 4/100\n",
      "50000/50000 [==============================] - 11s 212us/step - loss: 2.0146 - accuracy: 0.2707 - val_loss: 2.0207 - val_accuracy: 0.2620\n",
      "Epoch 5/100\n",
      "50000/50000 [==============================] - 11s 218us/step - loss: 1.9758 - accuracy: 0.2859 - val_loss: 2.0034 - val_accuracy: 0.2714\n",
      "Epoch 6/100\n",
      "50000/50000 [==============================] - 10s 208us/step - loss: 1.9335 - accuracy: 0.3058 - val_loss: 1.9794 - val_accuracy: 0.2786\n",
      "Epoch 7/100\n",
      "50000/50000 [==============================] - 10s 202us/step - loss: 1.9079 - accuracy: 0.3166 - val_loss: 1.9771 - val_accuracy: 0.2838\n",
      "Epoch 8/100\n",
      "50000/50000 [==============================] - 11s 224us/step - loss: 1.8776 - accuracy: 0.3245 - val_loss: 2.0114 - val_accuracy: 0.2742\n",
      "Epoch 9/100\n",
      "50000/50000 [==============================] - 10s 193us/step - loss: 1.8479 - accuracy: 0.3366 - val_loss: 1.9439 - val_accuracy: 0.2974\n",
      "Epoch 10/100\n",
      "50000/50000 [==============================] - 10s 191us/step - loss: 1.8276 - accuracy: 0.3436 - val_loss: 1.9830 - val_accuracy: 0.2928\n",
      "Epoch 11/100\n",
      "50000/50000 [==============================] - 9s 187us/step - loss: 1.7889 - accuracy: 0.3601 - val_loss: 1.9508 - val_accuracy: 0.3057\n",
      "Epoch 12/100\n",
      "50000/50000 [==============================] - 9s 171us/step - loss: 1.7602 - accuracy: 0.3698 - val_loss: 1.9717 - val_accuracy: 0.2978\n",
      "Epoch 13/100\n",
      "50000/50000 [==============================] - 9s 183us/step - loss: 1.7283 - accuracy: 0.3853 - val_loss: 1.9841 - val_accuracy: 0.3036\n",
      "Epoch 14/100\n",
      "50000/50000 [==============================] - 8s 165us/step - loss: 1.6992 - accuracy: 0.3959 - val_loss: 1.9881 - val_accuracy: 0.3058\n",
      "Epoch 15/100\n",
      "50000/50000 [==============================] - 9s 179us/step - loss: 1.6626 - accuracy: 0.4053 - val_loss: 2.0195 - val_accuracy: 0.2921\n",
      "Epoch 16/100\n",
      "50000/50000 [==============================] - 9s 188us/step - loss: 1.6270 - accuracy: 0.4187 - val_loss: 2.0025 - val_accuracy: 0.3126\n",
      "Epoch 17/100\n",
      "50000/50000 [==============================] - 9s 181us/step - loss: 1.5982 - accuracy: 0.4311 - val_loss: 1.9714 - val_accuracy: 0.3077\n",
      "Epoch 18/100\n",
      "50000/50000 [==============================] - 8s 161us/step - loss: 1.5666 - accuracy: 0.4436 - val_loss: 2.0334 - val_accuracy: 0.3106\n",
      "Epoch 19/100\n",
      "50000/50000 [==============================] - 7s 150us/step - loss: 1.5244 - accuracy: 0.4571 - val_loss: 2.0357 - val_accuracy: 0.3139\n",
      "Epoch 20/100\n",
      "50000/50000 [==============================] - 7s 150us/step - loss: 1.4947 - accuracy: 0.4692 - val_loss: 2.0526 - val_accuracy: 0.3074\n",
      "Epoch 21/100\n",
      "50000/50000 [==============================] - 7s 149us/step - loss: 1.4565 - accuracy: 0.4806 - val_loss: 2.0490 - val_accuracy: 0.3093\n",
      "Epoch 22/100\n",
      "50000/50000 [==============================] - 7s 148us/step - loss: 1.4369 - accuracy: 0.4854 - val_loss: 2.1052 - val_accuracy: 0.3155\n",
      "Epoch 23/100\n",
      "50000/50000 [==============================] - 7s 149us/step - loss: 1.3780 - accuracy: 0.5098 - val_loss: 2.1439 - val_accuracy: 0.3110\n",
      "Epoch 24/100\n",
      "50000/50000 [==============================] - 7s 148us/step - loss: 1.3578 - accuracy: 0.5149 - val_loss: 2.1661 - val_accuracy: 0.3115\n",
      "Epoch 25/100\n",
      "50000/50000 [==============================] - 7s 148us/step - loss: 1.3082 - accuracy: 0.5336 - val_loss: 2.2127 - val_accuracy: 0.3168\n",
      "Epoch 26/100\n",
      "50000/50000 [==============================] - 7s 148us/step - loss: 1.3015 - accuracy: 0.5375 - val_loss: 2.2110 - val_accuracy: 0.3168\n",
      "Epoch 27/100\n",
      "50000/50000 [==============================] - 7s 147us/step - loss: 1.2374 - accuracy: 0.5599 - val_loss: 2.2833 - val_accuracy: 0.3045\n",
      "Epoch 28/100\n",
      "50000/50000 [==============================] - 8s 151us/step - loss: 1.2176 - accuracy: 0.5641 - val_loss: 2.3513 - val_accuracy: 0.3054\n",
      "Epoch 29/100\n",
      "50000/50000 [==============================] - 7s 148us/step - loss: 1.1778 - accuracy: 0.5804 - val_loss: 2.4215 - val_accuracy: 0.2938\n",
      "Epoch 30/100\n",
      "50000/50000 [==============================] - 7s 148us/step - loss: 1.1363 - accuracy: 0.5943 - val_loss: 2.3548 - val_accuracy: 0.3105\n",
      "Epoch 31/100\n",
      "50000/50000 [==============================] - 7s 147us/step - loss: 1.1086 - accuracy: 0.6031 - val_loss: 2.5499 - val_accuracy: 0.3041\n",
      "Epoch 32/100\n",
      "50000/50000 [==============================] - 7s 148us/step - loss: 1.0829 - accuracy: 0.6127 - val_loss: 2.6016 - val_accuracy: 0.3048\n",
      "Epoch 33/100\n",
      "50000/50000 [==============================] - 7s 148us/step - loss: 1.0549 - accuracy: 0.6225 - val_loss: 2.5524 - val_accuracy: 0.2913\n",
      "Epoch 34/100\n",
      "50000/50000 [==============================] - 7s 148us/step - loss: 1.0295 - accuracy: 0.6322 - val_loss: 2.6498 - val_accuracy: 0.3022\n",
      "Epoch 35/100\n",
      "50000/50000 [==============================] - 7s 148us/step - loss: 0.9887 - accuracy: 0.6460 - val_loss: 2.7725 - val_accuracy: 0.2913\n",
      "Epoch 36/100\n",
      "50000/50000 [==============================] - 7s 150us/step - loss: 0.9697 - accuracy: 0.6535 - val_loss: 2.8660 - val_accuracy: 0.3091\n",
      "Epoch 37/100\n",
      "50000/50000 [==============================] - 7s 150us/step - loss: 0.9305 - accuracy: 0.6675 - val_loss: 2.8615 - val_accuracy: 0.2972\n",
      "Epoch 38/100\n",
      "50000/50000 [==============================] - 7s 150us/step - loss: 0.8929 - accuracy: 0.6806 - val_loss: 2.8775 - val_accuracy: 0.3026\n",
      "Epoch 39/100\n",
      "50000/50000 [==============================] - 7s 150us/step - loss: 0.8852 - accuracy: 0.6854 - val_loss: 2.9702 - val_accuracy: 0.2955\n",
      "Epoch 40/100\n",
      "50000/50000 [==============================] - 8s 151us/step - loss: 0.8306 - accuracy: 0.7074 - val_loss: 3.0496 - val_accuracy: 0.2912\n",
      "Epoch 41/100\n",
      "50000/50000 [==============================] - 8s 153us/step - loss: 0.8034 - accuracy: 0.7133 - val_loss: 3.3752 - val_accuracy: 0.2758\n",
      "Epoch 42/100\n",
      "50000/50000 [==============================] - 7s 150us/step - loss: 0.7868 - accuracy: 0.7180 - val_loss: 3.1643 - val_accuracy: 0.2926\n",
      "Epoch 43/100\n",
      "50000/50000 [==============================] - 8s 150us/step - loss: 0.7732 - accuracy: 0.7264 - val_loss: 3.5083 - val_accuracy: 0.2901\n",
      "Epoch 44/100\n",
      "50000/50000 [==============================] - 7s 150us/step - loss: 0.7366 - accuracy: 0.7369 - val_loss: 3.5288 - val_accuracy: 0.2958\n",
      "Epoch 45/100\n",
      "50000/50000 [==============================] - 8s 150us/step - loss: 0.7280 - accuracy: 0.7401 - val_loss: 3.4278 - val_accuracy: 0.2885\n",
      "Epoch 46/100\n",
      "50000/50000 [==============================] - 7s 150us/step - loss: 0.6926 - accuracy: 0.7544 - val_loss: 3.6355 - val_accuracy: 0.2848\n",
      "Epoch 47/100\n",
      "50000/50000 [==============================] - 8s 150us/step - loss: 0.6854 - accuracy: 0.7557 - val_loss: 3.6684 - val_accuracy: 0.2884\n",
      "Epoch 48/100\n",
      "50000/50000 [==============================] - 7s 150us/step - loss: 0.6356 - accuracy: 0.7747 - val_loss: 3.8172 - val_accuracy: 0.2913\n",
      "Epoch 49/100\n",
      "50000/50000 [==============================] - 7s 150us/step - loss: 0.6393 - accuracy: 0.7733 - val_loss: 3.8772 - val_accuracy: 0.2879\n",
      "Epoch 50/100\n",
      "50000/50000 [==============================] - 7s 150us/step - loss: 0.6050 - accuracy: 0.7857 - val_loss: 3.8487 - val_accuracy: 0.2759\n",
      "Epoch 51/100\n",
      "50000/50000 [==============================] - 8s 151us/step - loss: 0.6250 - accuracy: 0.7782 - val_loss: 4.0450 - val_accuracy: 0.2875\n",
      "Epoch 52/100\n",
      "50000/50000 [==============================] - 7s 150us/step - loss: 0.6003 - accuracy: 0.7880 - val_loss: 3.9261 - val_accuracy: 0.2878\n",
      "Epoch 53/100\n",
      "50000/50000 [==============================] - 7s 150us/step - loss: 0.5519 - accuracy: 0.8045 - val_loss: 4.2976 - val_accuracy: 0.2837\n",
      "Epoch 54/100\n",
      "50000/50000 [==============================] - 7s 150us/step - loss: 0.5436 - accuracy: 0.8074 - val_loss: 4.3242 - val_accuracy: 0.2773\n",
      "Epoch 55/100\n"
     ]
    },
    {
     "name": "stdout",
     "output_type": "stream",
     "text": [
      "50000/50000 [==============================] - 7s 147us/step - loss: 0.5535 - accuracy: 0.8047 - val_loss: 4.3743 - val_accuracy: 0.2851\n",
      "Epoch 56/100\n",
      "50000/50000 [==============================] - 7s 147us/step - loss: 0.4903 - accuracy: 0.8282 - val_loss: 4.4606 - val_accuracy: 0.2883\n",
      "Epoch 57/100\n",
      "50000/50000 [==============================] - 7s 147us/step - loss: 0.5098 - accuracy: 0.8199 - val_loss: 4.4997 - val_accuracy: 0.2917\n",
      "Epoch 58/100\n",
      "50000/50000 [==============================] - 8s 154us/step - loss: 0.5594 - accuracy: 0.8026 - val_loss: 4.4947 - val_accuracy: 0.2813\n",
      "Epoch 59/100\n",
      "50000/50000 [==============================] - 9s 171us/step - loss: 0.4673 - accuracy: 0.8358 - val_loss: 4.7440 - val_accuracy: 0.2786\n",
      "Epoch 60/100\n",
      "50000/50000 [==============================] - 8s 167us/step - loss: 0.4598 - accuracy: 0.8389 - val_loss: 4.7768 - val_accuracy: 0.2826\n",
      "Epoch 61/100\n",
      "50000/50000 [==============================] - 8s 167us/step - loss: 0.4333 - accuracy: 0.8492 - val_loss: 4.9397 - val_accuracy: 0.2805\n",
      "Epoch 62/100\n",
      "50000/50000 [==============================] - 8s 162us/step - loss: 0.4720 - accuracy: 0.8318 - val_loss: 4.9808 - val_accuracy: 0.2800\n",
      "Epoch 63/100\n",
      "50000/50000 [==============================] - 8s 163us/step - loss: 0.4346 - accuracy: 0.8488 - val_loss: 5.2262 - val_accuracy: 0.2797\n",
      "Epoch 64/100\n",
      "50000/50000 [==============================] - 8s 162us/step - loss: 0.3966 - accuracy: 0.8618 - val_loss: 5.0112 - val_accuracy: 0.2821\n",
      "Epoch 65/100\n",
      "50000/50000 [==============================] - 8s 162us/step - loss: 0.4356 - accuracy: 0.8486 - val_loss: 5.2270 - val_accuracy: 0.2805\n",
      "Epoch 66/100\n",
      "50000/50000 [==============================] - 8s 162us/step - loss: 0.3908 - accuracy: 0.8638 - val_loss: 5.4704 - val_accuracy: 0.2794\n",
      "Epoch 67/100\n",
      "50000/50000 [==============================] - 8s 162us/step - loss: 0.4099 - accuracy: 0.8573 - val_loss: 5.0835 - val_accuracy: 0.2817\n",
      "Epoch 68/100\n",
      "50000/50000 [==============================] - 8s 162us/step - loss: 0.4165 - accuracy: 0.8555 - val_loss: 5.1974 - val_accuracy: 0.2805\n",
      "Epoch 69/100\n",
      "50000/50000 [==============================] - 8s 162us/step - loss: 0.3621 - accuracy: 0.8746 - val_loss: 5.7298 - val_accuracy: 0.2809\n",
      "Epoch 70/100\n",
      "50000/50000 [==============================] - 8s 163us/step - loss: 0.3521 - accuracy: 0.8766 - val_loss: 5.7400 - val_accuracy: 0.2832\n",
      "Epoch 71/100\n",
      "50000/50000 [==============================] - 8s 162us/step - loss: 0.3918 - accuracy: 0.8639 - val_loss: 5.5207 - val_accuracy: 0.2720\n",
      "Epoch 72/100\n",
      "50000/50000 [==============================] - 8s 162us/step - loss: 0.3133 - accuracy: 0.8925 - val_loss: 5.7622 - val_accuracy: 0.2841\n",
      "Epoch 73/100\n",
      "50000/50000 [==============================] - 8s 162us/step - loss: 0.3524 - accuracy: 0.8776 - val_loss: 6.0811 - val_accuracy: 0.2859\n",
      "Epoch 74/100\n",
      "50000/50000 [==============================] - 8s 161us/step - loss: 0.3505 - accuracy: 0.8793 - val_loss: 5.9389 - val_accuracy: 0.2773\n",
      "Epoch 75/100\n",
      "50000/50000 [==============================] - 8s 162us/step - loss: 0.3619 - accuracy: 0.8737 - val_loss: 5.6523 - val_accuracy: 0.2808\n",
      "Epoch 76/100\n",
      "50000/50000 [==============================] - 8s 164us/step - loss: 0.3051 - accuracy: 0.8952 - val_loss: 5.8674 - val_accuracy: 0.2833\n",
      "Epoch 77/100\n",
      "50000/50000 [==============================] - 8s 162us/step - loss: 0.3077 - accuracy: 0.8944 - val_loss: 6.1155 - val_accuracy: 0.2813\n",
      "Epoch 78/100\n",
      "50000/50000 [==============================] - 8s 163us/step - loss: 0.3049 - accuracy: 0.8938 - val_loss: 6.6489 - val_accuracy: 0.2787\n",
      "Epoch 79/100\n",
      "50000/50000 [==============================] - 8s 162us/step - loss: 0.3858 - accuracy: 0.8668 - val_loss: 6.2154 - val_accuracy: 0.2854\n",
      "Epoch 80/100\n",
      "50000/50000 [==============================] - 8s 162us/step - loss: 0.2877 - accuracy: 0.9028 - val_loss: 6.3553 - val_accuracy: 0.2762\n",
      "Epoch 81/100\n",
      "50000/50000 [==============================] - 8s 161us/step - loss: 0.2939 - accuracy: 0.8982 - val_loss: 6.7654 - val_accuracy: 0.2832\n",
      "Epoch 82/100\n",
      "50000/50000 [==============================] - 8s 162us/step - loss: 0.2822 - accuracy: 0.9027 - val_loss: 6.5131 - val_accuracy: 0.2813\n",
      "Epoch 83/100\n",
      "50000/50000 [==============================] - 8s 162us/step - loss: 0.2324 - accuracy: 0.9221 - val_loss: 7.0506 - val_accuracy: 0.2821\n",
      "Epoch 84/100\n",
      "50000/50000 [==============================] - 8s 162us/step - loss: 0.3239 - accuracy: 0.8895 - val_loss: 6.4043 - val_accuracy: 0.2832\n",
      "Epoch 85/100\n",
      "50000/50000 [==============================] - 8s 162us/step - loss: 0.3476 - accuracy: 0.8808 - val_loss: 6.1892 - val_accuracy: 0.2780\n",
      "Epoch 86/100\n",
      "50000/50000 [==============================] - 8s 163us/step - loss: 0.2744 - accuracy: 0.9061 - val_loss: 6.2618 - val_accuracy: 0.2740\n",
      "Epoch 87/100\n",
      "50000/50000 [==============================] - 8s 161us/step - loss: 0.2696 - accuracy: 0.9087 - val_loss: 6.6829 - val_accuracy: 0.2820\n",
      "Epoch 88/100\n",
      "50000/50000 [==============================] - 8s 162us/step - loss: 0.2203 - accuracy: 0.9238 - val_loss: 7.1458 - val_accuracy: 0.2837\n",
      "Epoch 89/100\n",
      "50000/50000 [==============================] - 8s 162us/step - loss: 0.2927 - accuracy: 0.9005 - val_loss: 6.5480 - val_accuracy: 0.2814\n",
      "Epoch 90/100\n",
      "50000/50000 [==============================] - 8s 165us/step - loss: 0.2589 - accuracy: 0.9116 - val_loss: 6.8165 - val_accuracy: 0.2827\n",
      "Epoch 91/100\n",
      "50000/50000 [==============================] - 8s 163us/step - loss: 0.2428 - accuracy: 0.9175 - val_loss: 7.0357 - val_accuracy: 0.2751\n",
      "Epoch 92/100\n",
      "50000/50000 [==============================] - 8s 162us/step - loss: 0.2086 - accuracy: 0.9289 - val_loss: 7.4522 - val_accuracy: 0.2770\n",
      "Epoch 93/100\n",
      "50000/50000 [==============================] - 8s 161us/step - loss: 0.3048 - accuracy: 0.8957 - val_loss: 6.8250 - val_accuracy: 0.2834\n",
      "Epoch 94/100\n",
      "50000/50000 [==============================] - 8s 162us/step - loss: 0.3246 - accuracy: 0.8917 - val_loss: 6.9564 - val_accuracy: 0.2819\n",
      "Epoch 95/100\n",
      "50000/50000 [==============================] - 8s 163us/step - loss: 0.1919 - accuracy: 0.9363 - val_loss: 7.2607 - val_accuracy: 0.2656\n",
      "Epoch 96/100\n",
      "50000/50000 [==============================] - 8s 162us/step - loss: 0.2461 - accuracy: 0.9160 - val_loss: 7.1098 - val_accuracy: 0.2755\n",
      "Epoch 97/100\n",
      "50000/50000 [==============================] - 8s 162us/step - loss: 0.3321 - accuracy: 0.8887 - val_loss: 6.4329 - val_accuracy: 0.2793\n",
      "Epoch 98/100\n",
      "50000/50000 [==============================] - 8s 162us/step - loss: 0.1757 - accuracy: 0.9424 - val_loss: 7.2234 - val_accuracy: 0.2831\n",
      "Epoch 99/100\n",
      "50000/50000 [==============================] - 8s 162us/step - loss: 0.1808 - accuracy: 0.9390 - val_loss: 7.1461 - val_accuracy: 0.2696\n",
      "Epoch 100/100\n",
      "50000/50000 [==============================] - 8s 162us/step - loss: 0.3056 - accuracy: 0.8961 - val_loss: 7.4186 - val_accuracy: 0.2762\n"
     ]
    },
    {
     "data": {
      "text/plain": [
       "<keras.callbacks.callbacks.History at 0x1cf5d748>"
      ]
     },
     "execution_count": 26,
     "metadata": {},
     "output_type": "execute_result"
    }
   ],
   "source": [
    "model.fit(x_train, y_train, \n",
    "          epochs=EPOCHS, \n",
    "          batch_size=BATCH_SIZE, \n",
    "          validation_data=(x_test, y_test), \n",
    "          shuffle=True)"
   ]
  },
  {
   "cell_type": "code",
   "execution_count": 28,
   "metadata": {},
   "outputs": [
    {
     "data": {
      "image/png": "[encoded data removed]",
      "text/plain": [
       "<Figure size 432x288 with 1 Axes>"
      ]
     },
     "metadata": {
      "needs_background": "light"
     },
     "output_type": "display_data"
    },
    {
     "data": {
      "image/png": "[encoded data removed]",
      "text/plain": [
       "<Figure size 432x288 with 1 Axes>"
      ]
     },
     "metadata": {
      "needs_background": "light"
     },
     "output_type": "display_data"
    }
   ],
   "source": [
    "import matplotlib.pyplot as plt\n",
    "\n",
    "\n",
    "train_loss = model.history.history[\"loss\"]\n",
    "valid_loss = model.history.history[\"val_loss\"]\n",
    "\n",
    "train_acc = model.history.history[\"accuracy\"]\n",
    "valid_acc = model.history.history[\"val_accuracy\"]\n",
    "\n",
    "plt.plot(range(len(train_loss)), train_loss, label=\"train loss\")\n",
    "plt.plot(range(len(valid_loss)), valid_loss, label=\"valid loss\")\n",
    "plt.legend()\n",
    "plt.title(\"Loss\")\n",
    "plt.show()\n",
    "\n",
    "plt.plot(range(len(train_acc)), train_acc, label=\"train accuracy\")\n",
    "plt.plot(range(len(valid_acc)), valid_acc, label=\"valid accuracy\")\n",
    "plt.legend()\n",
    "plt.title(\"Accuracy\")\n",
    "plt.show()"
   ]
  }
 ],
 "metadata": {
  "kernelspec": {
   "display_name": "Python 3",
   "language": "python",
   "name": "python3"
  },
  "language_info": {
   "codemirror_mode": {
    "name": "ipython",
    "version": 3
   },
   "file_extension": ".py",
   "mimetype": "text/x-python",
   "name": "python",
   "nbconvert_exporter": "python",
   "pygments_lexer": "ipython3",
   "version": "3.7.3"
  }
 },
 "nbformat": 4,
 "nbformat_minor": 2
}
