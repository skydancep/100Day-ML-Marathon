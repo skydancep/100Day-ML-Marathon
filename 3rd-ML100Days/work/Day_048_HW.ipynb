{
 "cells": [
  {
   "cell_type": "markdown",
   "metadata": {},
   "source": [
    "## [作業重點]\n"
   ]
  },
  {
   "cell_type": "markdown",
   "metadata": {},
   "source": []
  },
  {
   "cell_type": "code",
   "execution_count": 20,
   "metadata": {},
   "outputs": [
    {
     "name": "stdout",
     "output_type": "stream",
     "text": [
      "(1000, 40)\n",
      "(9000, 40)\n",
      "(1000, 1)\n",
      "0.9914285714285714\n"
     ]
    },
    {
     "name": "stderr",
     "output_type": "stream",
     "text": [
      "C:\\Users\\sky\\Anaconda3\\lib\\site-packages\\sklearn\\utils\\deprecation.py:66: DeprecationWarning: Class Imputer is deprecated; Imputer was deprecated in version 0.20 and will be removed in 0.22. Import impute.SimpleImputer from sklearn instead.\n",
      "  warnings.warn(msg, category=DeprecationWarning)\n",
      "C:\\Users\\sky\\Anaconda3\\lib\\site-packages\\sklearn\\ensemble\\forest.py:245: FutureWarning: The default value of n_estimators will change from 10 in version 0.20 to 100 in 0.22.\n",
      "  \"10 in version 0.20 to 100 in 0.22.\", FutureWarning)\n"
     ]
    }
   ],
   "source": [
    "import numpy as np \n",
    "import pandas as pd \n",
    "\n",
    "from sklearn.model_selection import train_test_split, GridSearchCV\n",
    "from sklearn.ensemble import RandomForestClassifier\n",
    "\n",
    "import os\n",
    "\n",
    "\n",
    "df_train = pd.read_csv('train.csv', header=None)\n",
    "df_test = pd.read_csv('test.csv', header=None)\n",
    "df_trainlabels = pd.read_csv('trainLabels.csv', header=None)\n",
    "print(df_train.shape)\n",
    "print(df_test.shape)\n",
    "print(df_trainlabels.shape)\n",
    "X, y = df_train, np.ravel(df_trainlabels)\n",
    "X_train,X_test,y_train,y_test = train_test_split(X, y, test_size=0.3, random_state=0)\n",
    "\n",
    "#from sklearn.preprocessing import Imputer    \n",
    "#imputer = Imputer(missing_values='NaN', strategy='mean', axis = 0)  \n",
    "#imputer = imputer.fit(X_train)        \n",
    "#X_train = imputer.transform(X_train)\n",
    "\n",
    "clf = RandomForestClassifier()\n",
    "\n",
    "clf.fit(X_train, y_train)\n",
    "\n",
    "prd = clf.predict(df_test)\n",
    "\n",
    "\n",
    "print(clf.score(X_train,y_train))\n",
    "\n",
    "Ids = np.arange(1,prd.shape[0]+1)\n",
    "submission = pd.DataFrame({'Id': Ids, 'Solution':prd})\n",
    "submission.to_csv('submission.csv', index=False)"
   ]
  },
  {
   "cell_type": "code",
   "execution_count": null,
   "metadata": {},
   "outputs": [],
   "source": []
  }
 ],
 "metadata": {
  "kernelspec": {
   "display_name": "Python 3",
   "language": "python",
   "name": "python3"
  },
  "language_info": {
   "codemirror_mode": {
    "name": "ipython",
    "version": 3
   },
   "file_extension": ".py",
   "mimetype": "text/x-python",
   "name": "python",
   "nbconvert_exporter": "python",
   "pygments_lexer": "ipython3",
   "version": "3.7.3"
  }
 },
 "nbformat": 4,
 "nbformat_minor": 2
}
