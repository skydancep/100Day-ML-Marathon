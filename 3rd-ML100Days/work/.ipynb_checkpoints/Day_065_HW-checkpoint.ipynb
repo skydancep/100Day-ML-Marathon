{
 "cells": [
  {
   "cell_type": "markdown",
   "metadata": {},
   "source": [
    "# 作業\n",
    "* 選擇分類資料集(右下)-螺旋雙臂 - 交錯六群，限定特徵只能使用前兩個，隱藏層 2 層滿 (共 8 * 2 =16 個神經元)，  \n",
    "  遞迴次數只允許跑到500次，但可以自由調整 批次大小、學習速率、啟動函數、正規化選項與參數\n",
    "* 在上述限制下，挑戰看看測試誤差 (Test Loss) 最低能到多少? 請回答你的上述幾項參數與 Test Loss 數"
   ]
  },
  {
   "cell_type": "code",
   "execution_count": null,
   "metadata": {
    "collapsed": true
   },
   "outputs": [],
   "source": [
    "\n",
    "\n",
    "最低能到 0.008  批次大小10 學習速率 0.1 relu L2 參數 0\n",
    "\n",
    "\n",
    "批次大小、學習速率、啟動函數、正規化選項 參數 Test Loss \n",
    "10 0.03 tanh non 0 0.308\n",
    "10 0.3 tanh non 0 0.23\n",
    "10 0.03 relu non 0 0.216\n",
    "10 0.03 sigmoid non 0 0.216\n",
    "\n",
    "\n",
    "10 0.03 relu non 0 0.154\n",
    "10 0.1 relu non 0 0.031\n",
    "\n",
    "10 0.1 relu L1 0 0.034\n",
    "\n",
    "10 0.1 relu L2 0 0.008\n",
    "\n",
    "25 0.3 tanh l1 0.001 0.036\n"
   ]
  },
  {
   "cell_type": "markdown",
   "metadata": {
    "collapsed": true
   },
   "source": []
  }
 ],
 "metadata": {
  "kernelspec": {
   "display_name": "Python 3",
   "language": "python",
   "name": "python3"
  },
  "language_info": {
   "codemirror_mode": {
    "name": "ipython",
    "version": 3
   },
   "file_extension": ".py",
   "mimetype": "text/x-python",
   "name": "python",
   "nbconvert_exporter": "python",
   "pygments_lexer": "ipython3",
   "version": "3.7.3"
  }
 },
 "nbformat": 4,
 "nbformat_minor": 2
}
